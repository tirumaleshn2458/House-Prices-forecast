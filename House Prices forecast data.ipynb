{
 "cells": [
  {
   "cell_type": "markdown",
   "id": "4068e29a",
   "metadata": {},
   "source": [
    "# Forecast of Sinlge Family Homes"
   ]
  },
  {
   "cell_type": "code",
   "execution_count": 6,
   "id": "386e2c57",
   "metadata": {},
   "outputs": [],
   "source": [
    "#importing libraries"
   ]
  },
  {
   "cell_type": "code",
   "execution_count": 7,
   "id": "fdffa5a9",
   "metadata": {},
   "outputs": [],
   "source": [
    "import pandas as pd\n",
    "import os"
   ]
  },
  {
   "cell_type": "code",
   "execution_count": 8,
   "id": "0eeeafd1",
   "metadata": {},
   "outputs": [],
   "source": [
    "data_frame=pd.read_csv('Monthly_Sale_Price_of_Single_Family_Homes_in_CT.csv')"
   ]
  },
  {
   "cell_type": "code",
   "execution_count": 9,
   "id": "bb4f7c3d",
   "metadata": {},
   "outputs": [
    {
     "data": {
      "text/html": [
       "<div>\n",
       "<style scoped>\n",
       "    .dataframe tbody tr th:only-of-type {\n",
       "        vertical-align: middle;\n",
       "    }\n",
       "\n",
       "    .dataframe tbody tr th {\n",
       "        vertical-align: top;\n",
       "    }\n",
       "\n",
       "    .dataframe thead th {\n",
       "        text-align: right;\n",
       "    }\n",
       "</style>\n",
       "<table border=\"1\" class=\"dataframe\">\n",
       "  <thead>\n",
       "    <tr style=\"text-align: right;\">\n",
       "      <th></th>\n",
       "      <th>Date</th>\n",
       "      <th>Median Sale Price</th>\n",
       "      <th>Average Sale Price</th>\n",
       "      <th>County</th>\n",
       "    </tr>\n",
       "  </thead>\n",
       "  <tbody>\n",
       "    <tr>\n",
       "      <th>0</th>\n",
       "      <td>01/01/2001 12:00:00 AM</td>\n",
       "      <td>369587.11</td>\n",
       "      <td>607031.57</td>\n",
       "      <td>Fairfield</td>\n",
       "    </tr>\n",
       "    <tr>\n",
       "      <th>1</th>\n",
       "      <td>02/01/2001 12:00:00 AM</td>\n",
       "      <td>351716.13</td>\n",
       "      <td>612695.88</td>\n",
       "      <td>Fairfield</td>\n",
       "    </tr>\n",
       "    <tr>\n",
       "      <th>2</th>\n",
       "      <td>03/01/2001 12:00:00 AM</td>\n",
       "      <td>375670.85</td>\n",
       "      <td>581427.50</td>\n",
       "      <td>Fairfield</td>\n",
       "    </tr>\n",
       "    <tr>\n",
       "      <th>3</th>\n",
       "      <td>04/01/2001 12:00:00 AM</td>\n",
       "      <td>372628.98</td>\n",
       "      <td>579640.90</td>\n",
       "      <td>Fairfield</td>\n",
       "    </tr>\n",
       "    <tr>\n",
       "      <th>4</th>\n",
       "      <td>05/01/2001 12:00:00 AM</td>\n",
       "      <td>401488.72</td>\n",
       "      <td>576070.59</td>\n",
       "      <td>Fairfield</td>\n",
       "    </tr>\n",
       "    <tr>\n",
       "      <th>...</th>\n",
       "      <td>...</td>\n",
       "      <td>...</td>\n",
       "      <td>...</td>\n",
       "      <td>...</td>\n",
       "    </tr>\n",
       "    <tr>\n",
       "      <th>2245</th>\n",
       "      <td>06/01/2021 12:00:00 AM</td>\n",
       "      <td>245500.00</td>\n",
       "      <td>255984.24</td>\n",
       "      <td>Windham</td>\n",
       "    </tr>\n",
       "    <tr>\n",
       "      <th>2246</th>\n",
       "      <td>07/01/2021 12:00:00 AM</td>\n",
       "      <td>259950.00</td>\n",
       "      <td>273981.86</td>\n",
       "      <td>Windham</td>\n",
       "    </tr>\n",
       "    <tr>\n",
       "      <th>2247</th>\n",
       "      <td>08/01/2021 12:00:00 AM</td>\n",
       "      <td>250000.00</td>\n",
       "      <td>263424.27</td>\n",
       "      <td>Windham</td>\n",
       "    </tr>\n",
       "    <tr>\n",
       "      <th>2248</th>\n",
       "      <td>09/01/2021 12:00:00 AM</td>\n",
       "      <td>250000.00</td>\n",
       "      <td>272642.60</td>\n",
       "      <td>Windham</td>\n",
       "    </tr>\n",
       "    <tr>\n",
       "      <th>2249</th>\n",
       "      <td>10/01/2021 12:00:00 AM</td>\n",
       "      <td>250000.00</td>\n",
       "      <td>265434.49</td>\n",
       "      <td>Windham</td>\n",
       "    </tr>\n",
       "  </tbody>\n",
       "</table>\n",
       "<p>2250 rows × 4 columns</p>\n",
       "</div>"
      ],
      "text/plain": [
       "                        Date  Median Sale Price  Average Sale Price     County\n",
       "0     01/01/2001 12:00:00 AM          369587.11           607031.57  Fairfield\n",
       "1     02/01/2001 12:00:00 AM          351716.13           612695.88  Fairfield\n",
       "2     03/01/2001 12:00:00 AM          375670.85           581427.50  Fairfield\n",
       "3     04/01/2001 12:00:00 AM          372628.98           579640.90  Fairfield\n",
       "4     05/01/2001 12:00:00 AM          401488.72           576070.59  Fairfield\n",
       "...                      ...                ...                 ...        ...\n",
       "2245  06/01/2021 12:00:00 AM          245500.00           255984.24    Windham\n",
       "2246  07/01/2021 12:00:00 AM          259950.00           273981.86    Windham\n",
       "2247  08/01/2021 12:00:00 AM          250000.00           263424.27    Windham\n",
       "2248  09/01/2021 12:00:00 AM          250000.00           272642.60    Windham\n",
       "2249  10/01/2021 12:00:00 AM          250000.00           265434.49    Windham\n",
       "\n",
       "[2250 rows x 4 columns]"
      ]
     },
     "execution_count": 9,
     "metadata": {},
     "output_type": "execute_result"
    }
   ],
   "source": [
    "data_frame"
   ]
  },
  {
   "cell_type": "code",
   "execution_count": 10,
   "id": "18563ae2",
   "metadata": {},
   "outputs": [
    {
     "data": {
      "text/plain": [
       "Fairfield      250\n",
       "Hartford       250\n",
       "Litchfield     250\n",
       "Middlesex      250\n",
       "New Haven      250\n",
       "New London     250\n",
       "Connecticut    250\n",
       "Tolland        250\n",
       "Windham        250\n",
       "Name: County, dtype: int64"
      ]
     },
     "execution_count": 10,
     "metadata": {},
     "output_type": "execute_result"
    }
   ],
   "source": [
    "data_frame['County'].value_counts()"
   ]
  },
  {
   "cell_type": "markdown",
   "id": "68abc6a2",
   "metadata": {},
   "source": [
    "Each county has a equal share of 250 values of median and average sale prices"
   ]
  },
  {
   "cell_type": "code",
   "execution_count": 11,
   "id": "bcdccf22",
   "metadata": {},
   "outputs": [],
   "source": [
    "#Extracting only date from Date Feature\n",
    "dates=[]\n",
    "for val in data_frame['Date']:\n",
    "    dates.append(val[:10])"
   ]
  },
  {
   "cell_type": "code",
   "execution_count": 12,
   "id": "06229c81",
   "metadata": {},
   "outputs": [],
   "source": [
    "data_frame['Date']=dates"
   ]
  },
  {
   "cell_type": "code",
   "execution_count": 13,
   "id": "5d79af7d",
   "metadata": {},
   "outputs": [],
   "source": [
    "data_frame['Date']=pd.to_datetime(data_frame['Date'],format='%m/%d/%Y')"
   ]
  },
  {
   "cell_type": "code",
   "execution_count": 14,
   "id": "a87e3e2e",
   "metadata": {},
   "outputs": [
    {
     "data": {
      "text/html": [
       "<div>\n",
       "<style scoped>\n",
       "    .dataframe tbody tr th:only-of-type {\n",
       "        vertical-align: middle;\n",
       "    }\n",
       "\n",
       "    .dataframe tbody tr th {\n",
       "        vertical-align: top;\n",
       "    }\n",
       "\n",
       "    .dataframe thead th {\n",
       "        text-align: right;\n",
       "    }\n",
       "</style>\n",
       "<table border=\"1\" class=\"dataframe\">\n",
       "  <thead>\n",
       "    <tr style=\"text-align: right;\">\n",
       "      <th></th>\n",
       "      <th>Date</th>\n",
       "      <th>Median Sale Price</th>\n",
       "      <th>Average Sale Price</th>\n",
       "      <th>County</th>\n",
       "    </tr>\n",
       "  </thead>\n",
       "  <tbody>\n",
       "    <tr>\n",
       "      <th>0</th>\n",
       "      <td>2001-01-01</td>\n",
       "      <td>369587.11</td>\n",
       "      <td>607031.57</td>\n",
       "      <td>Fairfield</td>\n",
       "    </tr>\n",
       "    <tr>\n",
       "      <th>1</th>\n",
       "      <td>2001-02-01</td>\n",
       "      <td>351716.13</td>\n",
       "      <td>612695.88</td>\n",
       "      <td>Fairfield</td>\n",
       "    </tr>\n",
       "    <tr>\n",
       "      <th>2</th>\n",
       "      <td>2001-03-01</td>\n",
       "      <td>375670.85</td>\n",
       "      <td>581427.50</td>\n",
       "      <td>Fairfield</td>\n",
       "    </tr>\n",
       "    <tr>\n",
       "      <th>3</th>\n",
       "      <td>2001-04-01</td>\n",
       "      <td>372628.98</td>\n",
       "      <td>579640.90</td>\n",
       "      <td>Fairfield</td>\n",
       "    </tr>\n",
       "    <tr>\n",
       "      <th>4</th>\n",
       "      <td>2001-05-01</td>\n",
       "      <td>401488.72</td>\n",
       "      <td>576070.59</td>\n",
       "      <td>Fairfield</td>\n",
       "    </tr>\n",
       "  </tbody>\n",
       "</table>\n",
       "</div>"
      ],
      "text/plain": [
       "        Date  Median Sale Price  Average Sale Price     County\n",
       "0 2001-01-01          369587.11           607031.57  Fairfield\n",
       "1 2001-02-01          351716.13           612695.88  Fairfield\n",
       "2 2001-03-01          375670.85           581427.50  Fairfield\n",
       "3 2001-04-01          372628.98           579640.90  Fairfield\n",
       "4 2001-05-01          401488.72           576070.59  Fairfield"
      ]
     },
     "execution_count": 14,
     "metadata": {},
     "output_type": "execute_result"
    }
   ],
   "source": [
    "data_frame.head()"
   ]
  },
  {
   "cell_type": "code",
   "execution_count": 15,
   "id": "d19afcd4",
   "metadata": {},
   "outputs": [
    {
     "name": "stdout",
     "output_type": "stream",
     "text": [
      "Int64Index([ 1,  2,  3,  4,  5,  6,  7,  8,  9, 10,\n",
      "            ...\n",
      "             1,  2,  3,  4,  5,  6,  7,  8,  9, 10],\n",
      "           dtype='int64', name='Date', length=2250)\n",
      "Int64Index([1, 1, 1, 1, 1, 1, 1, 1, 1, 1,\n",
      "            ...\n",
      "            1, 1, 1, 1, 1, 1, 1, 1, 1, 1],\n",
      "           dtype='int64', name='Date', length=2250)\n",
      "Int64Index([2001, 2001, 2001, 2001, 2001, 2001, 2001, 2001, 2001, 2001,\n",
      "            ...\n",
      "            2021, 2021, 2021, 2021, 2021, 2021, 2021, 2021, 2021, 2021],\n",
      "           dtype='int64', name='Date', length=2250)\n"
     ]
    }
   ],
   "source": [
    "print(pd.DatetimeIndex(data_frame['Date']).month)\n",
    "print(pd.DatetimeIndex(data_frame['Date']).day)\n",
    "print(pd.DatetimeIndex(data_frame['Date']).year)"
   ]
  },
  {
   "cell_type": "markdown",
   "id": "ab026f19",
   "metadata": {},
   "source": [
    "Extracting each dataframe based on a specific County"
   ]
  },
  {
   "cell_type": "code",
   "execution_count": 16,
   "id": "8d4900e6",
   "metadata": {},
   "outputs": [],
   "source": [
    "fairfield_data=data_frame[data_frame['County']=='Fairfield']\n",
    "hartford_data=data_frame[data_frame['County']=='Hartford']\n",
    "litchfield_data=data_frame[data_frame['County']=='Litchfield']\n",
    "middlesex_data=data_frame[data_frame['County']=='Middlesex']\n",
    "new_haven_data=data_frame[data_frame['County']=='New Haven']\n",
    "new_london_data=data_frame[data_frame['County']=='New London']\n",
    "connecticut_data=data_frame[data_frame['County']=='Connecticut']\n",
    "tolland_data=data_frame[data_frame['County']=='Tolland']\n",
    "windham_data=data_frame[data_frame['County']=='Windham']"
   ]
  },
  {
   "cell_type": "code",
   "execution_count": 17,
   "id": "9d196b0f",
   "metadata": {},
   "outputs": [],
   "source": [
    "#assiging the dataframes into list"
   ]
  },
  {
   "cell_type": "code",
   "execution_count": 18,
   "id": "204d65ce",
   "metadata": {},
   "outputs": [],
   "source": [
    "data_list=[fairfield_data,hartford_data,litchfield_data,middlesex_data,new_haven_data,\n",
    "           new_london_data,connecticut_data,tolland_data,windham_data]"
   ]
  },
  {
   "cell_type": "code",
   "execution_count": 19,
   "id": "3a9c2320",
   "metadata": {},
   "outputs": [],
   "source": [
    "#extracting the county names"
   ]
  },
  {
   "cell_type": "code",
   "execution_count": 20,
   "id": "f711eec3",
   "metadata": {},
   "outputs": [],
   "source": [
    "data_names=data_frame['County'].value_counts().index"
   ]
  },
  {
   "cell_type": "code",
   "execution_count": 21,
   "id": "9ab9febc",
   "metadata": {},
   "outputs": [],
   "source": [
    "#each county data frame is saved into new separate folders named with county name"
   ]
  },
  {
   "cell_type": "code",
   "execution_count": 22,
   "id": "45923274",
   "metadata": {},
   "outputs": [
    {
     "name": "stdout",
     "output_type": "stream",
     "text": [
      "Directory 'Fairfield' created\n",
      "Dataframe Fairfield saved\n",
      "Directory 'Hartford' created\n",
      "Dataframe Hartford saved\n",
      "Directory 'Litchfield' created\n",
      "Dataframe Litchfield saved\n",
      "Directory 'Middlesex' created\n",
      "Dataframe Middlesex saved\n",
      "Directory 'New Haven' created\n",
      "Dataframe New Haven saved\n",
      "Directory 'New London' created\n",
      "Dataframe New London saved\n",
      "Directory 'Connecticut' created\n",
      "Dataframe Connecticut saved\n",
      "Directory 'Tolland' created\n",
      "Dataframe Tolland saved\n",
      "Directory 'Windham' created\n",
      "Dataframe Windham saved\n"
     ]
    }
   ],
   "source": [
    "parent_dir='/Users/tirumaleshn2000/Projects to modify/House prices forecast/'\n",
    "mode = 0o666\n",
    "for data,name in zip(data_list,data_names):\n",
    "    directory=name\n",
    "    path=parent_dir+directory\n",
    "    file_name=path+'/'+name+'.csv'\n",
    "    try:\n",
    "        #if the folder not exists, new folder is created in the parent directory.\n",
    "        os.mkdir(path)\n",
    "        print(\"Directory '% s' created\" % directory)\n",
    "        data.to_csv(file_name,index=False)\n",
    "        print('Dataframe {} saved'.format(name))\n",
    "    except:\n",
    "        #exception is raised if the folder already exists\n",
    "        print('Folder already exists')"
   ]
  }
 ],
 "metadata": {
  "kernelspec": {
   "display_name": "Python 3 (ipykernel)",
   "language": "python",
   "name": "python3"
  },
  "language_info": {
   "codemirror_mode": {
    "name": "ipython",
    "version": 3
   },
   "file_extension": ".py",
   "mimetype": "text/x-python",
   "name": "python",
   "nbconvert_exporter": "python",
   "pygments_lexer": "ipython3",
   "version": "3.9.6"
  }
 },
 "nbformat": 4,
 "nbformat_minor": 5
}
